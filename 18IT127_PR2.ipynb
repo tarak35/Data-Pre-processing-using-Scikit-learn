{
  "nbformat": 4,
  "nbformat_minor": 0,
  "metadata": {
    "kernelspec": {
      "display_name": "Python 3",
      "language": "python",
      "name": "python3"
    },
    "language_info": {
      "codemirror_mode": {
        "name": "ipython",
        "version": 3
      },
      "file_extension": ".py",
      "mimetype": "text/x-python",
      "name": "python",
      "nbconvert_exporter": "python",
      "pygments_lexer": "ipython3",
      "version": "3.8.5"
    },
    "colab": {
      "name": "18IT127-PR2.ipynb",
      "provenance": []
    }
  },
  "cells": [
    {
      "cell_type": "code",
      "metadata": {
        "id": "lsxjsfPLk-VB"
      },
      "source": [
        "import numpy as np\n",
        "import pandas as pd\n",
        "import matplotlib.pyplot as plt\n"
      ],
      "execution_count": null,
      "outputs": []
    },
    {
      "cell_type": "code",
      "metadata": {
        "id": "8mDYiQzMk-VE",
        "outputId": "af122e37-8348-4981-9c59-b9b28c177788"
      },
      "source": [
        "import pandas as pd\n",
        "import io\n",
        "#data = pd.read_csv(io.BytesIO(uploaded['housing.csv']))\n",
        "data = pd.read_csv('C:/Users/solan/Desktop/7th sem/DS/PR2/housing.csv')\n",
        "data.info()"
      ],
      "execution_count": null,
      "outputs": [
        {
          "output_type": "stream",
          "text": [
            "<class 'pandas.core.frame.DataFrame'>\n",
            "RangeIndex: 20640 entries, 0 to 20639\n",
            "Data columns (total 10 columns):\n",
            " #   Column              Non-Null Count  Dtype  \n",
            "---  ------              --------------  -----  \n",
            " 0   longitude           20640 non-null  float64\n",
            " 1   latitude            20640 non-null  float64\n",
            " 2   housing_median_age  20640 non-null  float64\n",
            " 3   total_rooms         20640 non-null  float64\n",
            " 4   total_bedrooms      20433 non-null  float64\n",
            " 5   population          20640 non-null  float64\n",
            " 6   households          20640 non-null  float64\n",
            " 7   median_income       20640 non-null  float64\n",
            " 8   median_house_value  20640 non-null  float64\n",
            " 9   ocean_proximity     20640 non-null  object \n",
            "dtypes: float64(9), object(1)\n",
            "memory usage: 1.6+ MB\n"
          ],
          "name": "stdout"
        }
      ]
    },
    {
      "cell_type": "code",
      "metadata": {
        "id": "7BMlh6R6k-VH",
        "outputId": "bce7e640-b143-4cfb-f089-1a4ee99084bc"
      },
      "source": [
        "data.head()\n"
      ],
      "execution_count": null,
      "outputs": [
        {
          "output_type": "execute_result",
          "data": {
            "text/html": [
              "<div>\n",
              "<style scoped>\n",
              "    .dataframe tbody tr th:only-of-type {\n",
              "        vertical-align: middle;\n",
              "    }\n",
              "\n",
              "    .dataframe tbody tr th {\n",
              "        vertical-align: top;\n",
              "    }\n",
              "\n",
              "    .dataframe thead th {\n",
              "        text-align: right;\n",
              "    }\n",
              "</style>\n",
              "<table border=\"1\" class=\"dataframe\">\n",
              "  <thead>\n",
              "    <tr style=\"text-align: right;\">\n",
              "      <th></th>\n",
              "      <th>longitude</th>\n",
              "      <th>latitude</th>\n",
              "      <th>housing_median_age</th>\n",
              "      <th>total_rooms</th>\n",
              "      <th>total_bedrooms</th>\n",
              "      <th>population</th>\n",
              "      <th>households</th>\n",
              "      <th>median_income</th>\n",
              "      <th>median_house_value</th>\n",
              "      <th>ocean_proximity</th>\n",
              "    </tr>\n",
              "  </thead>\n",
              "  <tbody>\n",
              "    <tr>\n",
              "      <th>0</th>\n",
              "      <td>-122.23</td>\n",
              "      <td>37.88</td>\n",
              "      <td>41.0</td>\n",
              "      <td>880.0</td>\n",
              "      <td>129.0</td>\n",
              "      <td>322.0</td>\n",
              "      <td>126.0</td>\n",
              "      <td>8.3252</td>\n",
              "      <td>452600.0</td>\n",
              "      <td>NEAR BAY</td>\n",
              "    </tr>\n",
              "    <tr>\n",
              "      <th>1</th>\n",
              "      <td>-122.22</td>\n",
              "      <td>37.86</td>\n",
              "      <td>21.0</td>\n",
              "      <td>7099.0</td>\n",
              "      <td>1106.0</td>\n",
              "      <td>2401.0</td>\n",
              "      <td>1138.0</td>\n",
              "      <td>8.3014</td>\n",
              "      <td>358500.0</td>\n",
              "      <td>NEAR BAY</td>\n",
              "    </tr>\n",
              "    <tr>\n",
              "      <th>2</th>\n",
              "      <td>-122.24</td>\n",
              "      <td>37.85</td>\n",
              "      <td>52.0</td>\n",
              "      <td>1467.0</td>\n",
              "      <td>190.0</td>\n",
              "      <td>496.0</td>\n",
              "      <td>177.0</td>\n",
              "      <td>7.2574</td>\n",
              "      <td>352100.0</td>\n",
              "      <td>NEAR BAY</td>\n",
              "    </tr>\n",
              "    <tr>\n",
              "      <th>3</th>\n",
              "      <td>-122.25</td>\n",
              "      <td>37.85</td>\n",
              "      <td>52.0</td>\n",
              "      <td>1274.0</td>\n",
              "      <td>235.0</td>\n",
              "      <td>558.0</td>\n",
              "      <td>219.0</td>\n",
              "      <td>5.6431</td>\n",
              "      <td>341300.0</td>\n",
              "      <td>NEAR BAY</td>\n",
              "    </tr>\n",
              "    <tr>\n",
              "      <th>4</th>\n",
              "      <td>-122.25</td>\n",
              "      <td>37.85</td>\n",
              "      <td>52.0</td>\n",
              "      <td>1627.0</td>\n",
              "      <td>280.0</td>\n",
              "      <td>565.0</td>\n",
              "      <td>259.0</td>\n",
              "      <td>3.8462</td>\n",
              "      <td>342200.0</td>\n",
              "      <td>NEAR BAY</td>\n",
              "    </tr>\n",
              "  </tbody>\n",
              "</table>\n",
              "</div>"
            ],
            "text/plain": [
              "   longitude  latitude  housing_median_age  total_rooms  total_bedrooms  \\\n",
              "0    -122.23     37.88                41.0        880.0           129.0   \n",
              "1    -122.22     37.86                21.0       7099.0          1106.0   \n",
              "2    -122.24     37.85                52.0       1467.0           190.0   \n",
              "3    -122.25     37.85                52.0       1274.0           235.0   \n",
              "4    -122.25     37.85                52.0       1627.0           280.0   \n",
              "\n",
              "   population  households  median_income  median_house_value ocean_proximity  \n",
              "0       322.0       126.0         8.3252            452600.0        NEAR BAY  \n",
              "1      2401.0      1138.0         8.3014            358500.0        NEAR BAY  \n",
              "2       496.0       177.0         7.2574            352100.0        NEAR BAY  \n",
              "3       558.0       219.0         5.6431            341300.0        NEAR BAY  \n",
              "4       565.0       259.0         3.8462            342200.0        NEAR BAY  "
            ]
          },
          "metadata": {
            "tags": []
          },
          "execution_count": 3
        }
      ]
    },
    {
      "cell_type": "markdown",
      "metadata": {
        "id": "Z0qURMpdk-VJ"
      },
      "source": [
        "\n",
        "**Encoding**\n",
        "\n",
        "(1)Label encoder\n",
        "\n",
        "(2)Onehot encoder"
      ]
    },
    {
      "cell_type": "code",
      "metadata": {
        "id": "f1TlbVUek-VK",
        "outputId": "12317fae-12e3-4998-b54e-e92dcf310473"
      },
      "source": [
        "from sklearn.preprocessing import LabelEncoder , OneHotEncoder\n",
        "data['median_house_value'].value_counts()"
      ],
      "execution_count": null,
      "outputs": [
        {
          "output_type": "execute_result",
          "data": {
            "text/plain": [
              "500001.0    965\n",
              "137500.0    122\n",
              "162500.0    117\n",
              "112500.0    103\n",
              "187500.0     93\n",
              "           ... \n",
              "303200.0      1\n",
              "307900.0      1\n",
              "383200.0      1\n",
              "360800.0      1\n",
              "405500.0      1\n",
              "Name: median_house_value, Length: 3842, dtype: int64"
            ]
          },
          "metadata": {
            "tags": []
          },
          "execution_count": 4
        }
      ]
    },
    {
      "cell_type": "code",
      "metadata": {
        "id": "ZG6n9-2Ck-VL",
        "outputId": "71358f05-4165-466c-d732-78cc5f54649c"
      },
      "source": [
        "le=LabelEncoder()\n",
        "data['median_house_value']=le.fit_transform(data['median_house_value'])\n",
        "data['median_house_value'].value_counts()"
      ],
      "execution_count": null,
      "outputs": [
        {
          "output_type": "execute_result",
          "data": {
            "text/plain": [
              "3841    965\n",
              "959     122\n",
              "1209    117\n",
              "710     103\n",
              "1459     93\n",
              "       ... \n",
              "3172      1\n",
              "3275      1\n",
              "3204      1\n",
              "3091      1\n",
              "2119      1\n",
              "Name: median_house_value, Length: 3842, dtype: int64"
            ]
          },
          "metadata": {
            "tags": []
          },
          "execution_count": 5
        }
      ]
    },
    {
      "cell_type": "code",
      "metadata": {
        "id": "L_M3rEv0k-VM",
        "outputId": "b2cceb17-3290-4044-ab33-c8a57b6f0bf5"
      },
      "source": [
        "le.classes_"
      ],
      "execution_count": null,
      "outputs": [
        {
          "output_type": "execute_result",
          "data": {
            "text/plain": [
              "array([ 14999.,  17500.,  22500., ..., 499100., 500000., 500001.])"
            ]
          },
          "metadata": {
            "tags": []
          },
          "execution_count": 6
        }
      ]
    },
    {
      "cell_type": "markdown",
      "metadata": {
        "id": "_eVvcCQRk-VN"
      },
      "source": [
        "\n",
        "**(2)Onehot Encoder**"
      ]
    },
    {
      "cell_type": "code",
      "metadata": {
        "id": "VIjOGl2jk-VP",
        "outputId": "daf498ab-a2eb-4f3a-dc14-85f3cfe09b71"
      },
      "source": [
        "data['ocean_proximity'].value_counts()"
      ],
      "execution_count": null,
      "outputs": [
        {
          "output_type": "execute_result",
          "data": {
            "text/plain": [
              "<1H OCEAN     9136\n",
              "INLAND        6551\n",
              "NEAR OCEAN    2658\n",
              "NEAR BAY      2290\n",
              "ISLAND           5\n",
              "Name: ocean_proximity, dtype: int64"
            ]
          },
          "metadata": {
            "tags": []
          },
          "execution_count": 7
        }
      ]
    },
    {
      "cell_type": "code",
      "metadata": {
        "id": "HA_z_eWok-VQ",
        "outputId": "2f2e0bc1-a6d0-4915-e762-aec1f377c5bb"
      },
      "source": [
        "one_hot = OneHotEncoder()\n",
        "transformed_data = one_hot.fit_transform(data['ocean_proximity'].values.reshape(-1,1)).toarray()\n",
        "one_hot.categories_"
      ],
      "execution_count": null,
      "outputs": [
        {
          "output_type": "execute_result",
          "data": {
            "text/plain": [
              "[array(['<1H OCEAN', 'INLAND', 'ISLAND', 'NEAR BAY', 'NEAR OCEAN'],\n",
              "       dtype=object)]"
            ]
          },
          "metadata": {
            "tags": []
          },
          "execution_count": 8
        }
      ]
    },
    {
      "cell_type": "code",
      "metadata": {
        "id": "vDOoPpnXk-VR",
        "outputId": "82b88f32-d222-40be-b617-6365aa62995b"
      },
      "source": [
        "\n",
        "transformed_data = pd.DataFrame(transformed_data , \n",
        "                                columns = ['<1H OCEAN', 'INLAND', 'ISLAND', 'NEAR BAY','NEAR OCEAN'])\n",
        "transformed_data.head()"
      ],
      "execution_count": null,
      "outputs": [
        {
          "output_type": "execute_result",
          "data": {
            "text/html": [
              "<div>\n",
              "<style scoped>\n",
              "    .dataframe tbody tr th:only-of-type {\n",
              "        vertical-align: middle;\n",
              "    }\n",
              "\n",
              "    .dataframe tbody tr th {\n",
              "        vertical-align: top;\n",
              "    }\n",
              "\n",
              "    .dataframe thead th {\n",
              "        text-align: right;\n",
              "    }\n",
              "</style>\n",
              "<table border=\"1\" class=\"dataframe\">\n",
              "  <thead>\n",
              "    <tr style=\"text-align: right;\">\n",
              "      <th></th>\n",
              "      <th>&lt;1H OCEAN</th>\n",
              "      <th>INLAND</th>\n",
              "      <th>ISLAND</th>\n",
              "      <th>NEAR BAY</th>\n",
              "      <th>NEAR OCEAN</th>\n",
              "    </tr>\n",
              "  </thead>\n",
              "  <tbody>\n",
              "    <tr>\n",
              "      <th>0</th>\n",
              "      <td>0.0</td>\n",
              "      <td>0.0</td>\n",
              "      <td>0.0</td>\n",
              "      <td>1.0</td>\n",
              "      <td>0.0</td>\n",
              "    </tr>\n",
              "    <tr>\n",
              "      <th>1</th>\n",
              "      <td>0.0</td>\n",
              "      <td>0.0</td>\n",
              "      <td>0.0</td>\n",
              "      <td>1.0</td>\n",
              "      <td>0.0</td>\n",
              "    </tr>\n",
              "    <tr>\n",
              "      <th>2</th>\n",
              "      <td>0.0</td>\n",
              "      <td>0.0</td>\n",
              "      <td>0.0</td>\n",
              "      <td>1.0</td>\n",
              "      <td>0.0</td>\n",
              "    </tr>\n",
              "    <tr>\n",
              "      <th>3</th>\n",
              "      <td>0.0</td>\n",
              "      <td>0.0</td>\n",
              "      <td>0.0</td>\n",
              "      <td>1.0</td>\n",
              "      <td>0.0</td>\n",
              "    </tr>\n",
              "    <tr>\n",
              "      <th>4</th>\n",
              "      <td>0.0</td>\n",
              "      <td>0.0</td>\n",
              "      <td>0.0</td>\n",
              "      <td>1.0</td>\n",
              "      <td>0.0</td>\n",
              "    </tr>\n",
              "  </tbody>\n",
              "</table>\n",
              "</div>"
            ],
            "text/plain": [
              "   <1H OCEAN  INLAND  ISLAND  NEAR BAY  NEAR OCEAN\n",
              "0        0.0     0.0     0.0       1.0         0.0\n",
              "1        0.0     0.0     0.0       1.0         0.0\n",
              "2        0.0     0.0     0.0       1.0         0.0\n",
              "3        0.0     0.0     0.0       1.0         0.0\n",
              "4        0.0     0.0     0.0       1.0         0.0"
            ]
          },
          "metadata": {
            "tags": []
          },
          "execution_count": 9
        }
      ]
    },
    {
      "cell_type": "code",
      "metadata": {
        "id": "PMUPYbmGk-VS",
        "outputId": "7a39d3c3-92c8-43e5-da18-3b2ede3683e9"
      },
      "source": [
        "transformed_data.iloc[90, ]"
      ],
      "execution_count": null,
      "outputs": [
        {
          "output_type": "execute_result",
          "data": {
            "text/plain": [
              "<1H OCEAN     0.0\n",
              "INLAND        0.0\n",
              "ISLAND        0.0\n",
              "NEAR BAY      1.0\n",
              "NEAR OCEAN    0.0\n",
              "Name: 90, dtype: float64"
            ]
          },
          "metadata": {
            "tags": []
          },
          "execution_count": 10
        }
      ]
    },
    {
      "cell_type": "code",
      "metadata": {
        "id": "b8n7d2BLk-VT",
        "outputId": "5d1e8f7e-ca80-42eb-d402-98bb6aa5e72c"
      },
      "source": [
        "data['median_house_value'][90]"
      ],
      "execution_count": null,
      "outputs": [
        {
          "output_type": "execute_result",
          "data": {
            "text/plain": [
              "1209"
            ]
          },
          "metadata": {
            "tags": []
          },
          "execution_count": 11
        }
      ]
    },
    {
      "cell_type": "markdown",
      "metadata": {
        "id": "SbdqVJRyk-VU"
      },
      "source": [
        "**Normalization & Standardization**"
      ]
    },
    {
      "cell_type": "code",
      "metadata": {
        "id": "QuSCIZOVk-VV",
        "outputId": "217fa761-012d-4f62-9405-7bdfee0a2219"
      },
      "source": [
        "numeric_columns = [c for c in data.columns if data[c].dtype != np.dtype('O')]\n",
        "numeric_columns"
      ],
      "execution_count": null,
      "outputs": [
        {
          "output_type": "execute_result",
          "data": {
            "text/plain": [
              "['longitude',\n",
              " 'latitude',\n",
              " 'housing_median_age',\n",
              " 'total_rooms',\n",
              " 'total_bedrooms',\n",
              " 'population',\n",
              " 'households',\n",
              " 'median_income',\n",
              " 'median_house_value']"
            ]
          },
          "metadata": {
            "tags": []
          },
          "execution_count": 12
        }
      ]
    },
    {
      "cell_type": "code",
      "metadata": {
        "id": "FsfoH5vZk-VV",
        "outputId": "0dbd4739-c76c-413d-be8d-d7b24d00d84e"
      },
      "source": [
        "len(numeric_columns) , len(data.columns)"
      ],
      "execution_count": null,
      "outputs": [
        {
          "output_type": "execute_result",
          "data": {
            "text/plain": [
              "(9, 10)"
            ]
          },
          "metadata": {
            "tags": []
          },
          "execution_count": 13
        }
      ]
    },
    {
      "cell_type": "code",
      "metadata": {
        "id": "ywhzWnZzk-VW",
        "outputId": "c4a84999-3ff0-4e6c-e326-badd10dd45b6"
      },
      "source": [
        "numeric_columns.remove('longitude')\n",
        "numeric_columns.remove('latitude')\n",
        "\n",
        "temp_data = data[numeric_columns]\n",
        "temp_data"
      ],
      "execution_count": null,
      "outputs": [
        {
          "output_type": "execute_result",
          "data": {
            "text/html": [
              "<div>\n",
              "<style scoped>\n",
              "    .dataframe tbody tr th:only-of-type {\n",
              "        vertical-align: middle;\n",
              "    }\n",
              "\n",
              "    .dataframe tbody tr th {\n",
              "        vertical-align: top;\n",
              "    }\n",
              "\n",
              "    .dataframe thead th {\n",
              "        text-align: right;\n",
              "    }\n",
              "</style>\n",
              "<table border=\"1\" class=\"dataframe\">\n",
              "  <thead>\n",
              "    <tr style=\"text-align: right;\">\n",
              "      <th></th>\n",
              "      <th>housing_median_age</th>\n",
              "      <th>total_rooms</th>\n",
              "      <th>total_bedrooms</th>\n",
              "      <th>population</th>\n",
              "      <th>households</th>\n",
              "      <th>median_income</th>\n",
              "      <th>median_house_value</th>\n",
              "    </tr>\n",
              "  </thead>\n",
              "  <tbody>\n",
              "    <tr>\n",
              "      <th>0</th>\n",
              "      <td>41.0</td>\n",
              "      <td>880.0</td>\n",
              "      <td>129.0</td>\n",
              "      <td>322.0</td>\n",
              "      <td>126.0</td>\n",
              "      <td>8.3252</td>\n",
              "      <td>3665</td>\n",
              "    </tr>\n",
              "    <tr>\n",
              "      <th>1</th>\n",
              "      <td>21.0</td>\n",
              "      <td>7099.0</td>\n",
              "      <td>1106.0</td>\n",
              "      <td>2401.0</td>\n",
              "      <td>1138.0</td>\n",
              "      <td>8.3014</td>\n",
              "      <td>3074</td>\n",
              "    </tr>\n",
              "    <tr>\n",
              "      <th>2</th>\n",
              "      <td>52.0</td>\n",
              "      <td>1467.0</td>\n",
              "      <td>190.0</td>\n",
              "      <td>496.0</td>\n",
              "      <td>177.0</td>\n",
              "      <td>7.2574</td>\n",
              "      <td>3017</td>\n",
              "    </tr>\n",
              "    <tr>\n",
              "      <th>3</th>\n",
              "      <td>52.0</td>\n",
              "      <td>1274.0</td>\n",
              "      <td>235.0</td>\n",
              "      <td>558.0</td>\n",
              "      <td>219.0</td>\n",
              "      <td>5.6431</td>\n",
              "      <td>2917</td>\n",
              "    </tr>\n",
              "    <tr>\n",
              "      <th>4</th>\n",
              "      <td>52.0</td>\n",
              "      <td>1627.0</td>\n",
              "      <td>280.0</td>\n",
              "      <td>565.0</td>\n",
              "      <td>259.0</td>\n",
              "      <td>3.8462</td>\n",
              "      <td>2925</td>\n",
              "    </tr>\n",
              "    <tr>\n",
              "      <th>...</th>\n",
              "      <td>...</td>\n",
              "      <td>...</td>\n",
              "      <td>...</td>\n",
              "      <td>...</td>\n",
              "      <td>...</td>\n",
              "      <td>...</td>\n",
              "      <td>...</td>\n",
              "    </tr>\n",
              "    <tr>\n",
              "      <th>20635</th>\n",
              "      <td>25.0</td>\n",
              "      <td>1665.0</td>\n",
              "      <td>374.0</td>\n",
              "      <td>845.0</td>\n",
              "      <td>330.0</td>\n",
              "      <td>1.5603</td>\n",
              "      <td>366</td>\n",
              "    </tr>\n",
              "    <tr>\n",
              "      <th>20636</th>\n",
              "      <td>18.0</td>\n",
              "      <td>697.0</td>\n",
              "      <td>150.0</td>\n",
              "      <td>356.0</td>\n",
              "      <td>114.0</td>\n",
              "      <td>2.5568</td>\n",
              "      <td>356</td>\n",
              "    </tr>\n",
              "    <tr>\n",
              "      <th>20637</th>\n",
              "      <td>17.0</td>\n",
              "      <td>2254.0</td>\n",
              "      <td>485.0</td>\n",
              "      <td>1007.0</td>\n",
              "      <td>433.0</td>\n",
              "      <td>1.7000</td>\n",
              "      <td>508</td>\n",
              "    </tr>\n",
              "    <tr>\n",
              "      <th>20638</th>\n",
              "      <td>18.0</td>\n",
              "      <td>1860.0</td>\n",
              "      <td>409.0</td>\n",
              "      <td>741.0</td>\n",
              "      <td>349.0</td>\n",
              "      <td>1.8672</td>\n",
              "      <td>432</td>\n",
              "    </tr>\n",
              "    <tr>\n",
              "      <th>20639</th>\n",
              "      <td>16.0</td>\n",
              "      <td>2785.0</td>\n",
              "      <td>616.0</td>\n",
              "      <td>1387.0</td>\n",
              "      <td>530.0</td>\n",
              "      <td>2.3886</td>\n",
              "      <td>479</td>\n",
              "    </tr>\n",
              "  </tbody>\n",
              "</table>\n",
              "<p>20640 rows × 7 columns</p>\n",
              "</div>"
            ],
            "text/plain": [
              "       housing_median_age  total_rooms  total_bedrooms  population  \\\n",
              "0                    41.0        880.0           129.0       322.0   \n",
              "1                    21.0       7099.0          1106.0      2401.0   \n",
              "2                    52.0       1467.0           190.0       496.0   \n",
              "3                    52.0       1274.0           235.0       558.0   \n",
              "4                    52.0       1627.0           280.0       565.0   \n",
              "...                   ...          ...             ...         ...   \n",
              "20635                25.0       1665.0           374.0       845.0   \n",
              "20636                18.0        697.0           150.0       356.0   \n",
              "20637                17.0       2254.0           485.0      1007.0   \n",
              "20638                18.0       1860.0           409.0       741.0   \n",
              "20639                16.0       2785.0           616.0      1387.0   \n",
              "\n",
              "       households  median_income  median_house_value  \n",
              "0           126.0         8.3252                3665  \n",
              "1          1138.0         8.3014                3074  \n",
              "2           177.0         7.2574                3017  \n",
              "3           219.0         5.6431                2917  \n",
              "4           259.0         3.8462                2925  \n",
              "...           ...            ...                 ...  \n",
              "20635       330.0         1.5603                 366  \n",
              "20636       114.0         2.5568                 356  \n",
              "20637       433.0         1.7000                 508  \n",
              "20638       349.0         1.8672                 432  \n",
              "20639       530.0         2.3886                 479  \n",
              "\n",
              "[20640 rows x 7 columns]"
            ]
          },
          "metadata": {
            "tags": []
          },
          "execution_count": 14
        }
      ]
    },
    {
      "cell_type": "markdown",
      "metadata": {
        "id": "erdaYx2qk-VW"
      },
      "source": [
        "**Normalization**"
      ]
    },
    {
      "cell_type": "code",
      "metadata": {
        "id": "WVEpMQu1k-VX",
        "outputId": "9721cd78-55ff-47eb-fc01-818e2979f5d6"
      },
      "source": [
        "from sklearn.preprocessing import StandardScaler , MinMaxScaler\n",
        "import warnings\n",
        "warnings.filterwarnings('ignore')\n",
        "normalizer = MinMaxScaler()\n",
        "temp_data.dropna(axis = 1 , inplace = True)\n",
        "normalized_data = normalizer.fit_transform(temp_data)\n",
        "pd.DataFrame(normalized_data , columns = temp_data.columns)"
      ],
      "execution_count": null,
      "outputs": [
        {
          "output_type": "execute_result",
          "data": {
            "text/html": [
              "<div>\n",
              "<style scoped>\n",
              "    .dataframe tbody tr th:only-of-type {\n",
              "        vertical-align: middle;\n",
              "    }\n",
              "\n",
              "    .dataframe tbody tr th {\n",
              "        vertical-align: top;\n",
              "    }\n",
              "\n",
              "    .dataframe thead th {\n",
              "        text-align: right;\n",
              "    }\n",
              "</style>\n",
              "<table border=\"1\" class=\"dataframe\">\n",
              "  <thead>\n",
              "    <tr style=\"text-align: right;\">\n",
              "      <th></th>\n",
              "      <th>housing_median_age</th>\n",
              "      <th>total_rooms</th>\n",
              "      <th>population</th>\n",
              "      <th>households</th>\n",
              "      <th>median_income</th>\n",
              "      <th>median_house_value</th>\n",
              "    </tr>\n",
              "  </thead>\n",
              "  <tbody>\n",
              "    <tr>\n",
              "      <th>0</th>\n",
              "      <td>0.784314</td>\n",
              "      <td>0.022331</td>\n",
              "      <td>0.008941</td>\n",
              "      <td>0.020556</td>\n",
              "      <td>0.539668</td>\n",
              "      <td>0.954179</td>\n",
              "    </tr>\n",
              "    <tr>\n",
              "      <th>1</th>\n",
              "      <td>0.392157</td>\n",
              "      <td>0.180503</td>\n",
              "      <td>0.067210</td>\n",
              "      <td>0.186976</td>\n",
              "      <td>0.538027</td>\n",
              "      <td>0.800312</td>\n",
              "    </tr>\n",
              "    <tr>\n",
              "      <th>2</th>\n",
              "      <td>1.000000</td>\n",
              "      <td>0.037260</td>\n",
              "      <td>0.013818</td>\n",
              "      <td>0.028943</td>\n",
              "      <td>0.466028</td>\n",
              "      <td>0.785473</td>\n",
              "    </tr>\n",
              "    <tr>\n",
              "      <th>3</th>\n",
              "      <td>1.000000</td>\n",
              "      <td>0.032352</td>\n",
              "      <td>0.015555</td>\n",
              "      <td>0.035849</td>\n",
              "      <td>0.354699</td>\n",
              "      <td>0.759438</td>\n",
              "    </tr>\n",
              "    <tr>\n",
              "      <th>4</th>\n",
              "      <td>1.000000</td>\n",
              "      <td>0.041330</td>\n",
              "      <td>0.015752</td>\n",
              "      <td>0.042427</td>\n",
              "      <td>0.230776</td>\n",
              "      <td>0.761520</td>\n",
              "    </tr>\n",
              "    <tr>\n",
              "      <th>...</th>\n",
              "      <td>...</td>\n",
              "      <td>...</td>\n",
              "      <td>...</td>\n",
              "      <td>...</td>\n",
              "      <td>...</td>\n",
              "      <td>...</td>\n",
              "    </tr>\n",
              "    <tr>\n",
              "      <th>20635</th>\n",
              "      <td>0.470588</td>\n",
              "      <td>0.042296</td>\n",
              "      <td>0.023599</td>\n",
              "      <td>0.054103</td>\n",
              "      <td>0.073130</td>\n",
              "      <td>0.095288</td>\n",
              "    </tr>\n",
              "    <tr>\n",
              "      <th>20636</th>\n",
              "      <td>0.333333</td>\n",
              "      <td>0.017676</td>\n",
              "      <td>0.009894</td>\n",
              "      <td>0.018582</td>\n",
              "      <td>0.141853</td>\n",
              "      <td>0.092684</td>\n",
              "    </tr>\n",
              "    <tr>\n",
              "      <th>20637</th>\n",
              "      <td>0.313725</td>\n",
              "      <td>0.057277</td>\n",
              "      <td>0.028140</td>\n",
              "      <td>0.071041</td>\n",
              "      <td>0.082764</td>\n",
              "      <td>0.132257</td>\n",
              "    </tr>\n",
              "    <tr>\n",
              "      <th>20638</th>\n",
              "      <td>0.333333</td>\n",
              "      <td>0.047256</td>\n",
              "      <td>0.020684</td>\n",
              "      <td>0.057227</td>\n",
              "      <td>0.094295</td>\n",
              "      <td>0.112471</td>\n",
              "    </tr>\n",
              "    <tr>\n",
              "      <th>20639</th>\n",
              "      <td>0.294118</td>\n",
              "      <td>0.070782</td>\n",
              "      <td>0.038790</td>\n",
              "      <td>0.086992</td>\n",
              "      <td>0.130253</td>\n",
              "      <td>0.124707</td>\n",
              "    </tr>\n",
              "  </tbody>\n",
              "</table>\n",
              "<p>20640 rows × 6 columns</p>\n",
              "</div>"
            ],
            "text/plain": [
              "       housing_median_age  total_rooms  population  households  median_income  \\\n",
              "0                0.784314     0.022331    0.008941    0.020556       0.539668   \n",
              "1                0.392157     0.180503    0.067210    0.186976       0.538027   \n",
              "2                1.000000     0.037260    0.013818    0.028943       0.466028   \n",
              "3                1.000000     0.032352    0.015555    0.035849       0.354699   \n",
              "4                1.000000     0.041330    0.015752    0.042427       0.230776   \n",
              "...                   ...          ...         ...         ...            ...   \n",
              "20635            0.470588     0.042296    0.023599    0.054103       0.073130   \n",
              "20636            0.333333     0.017676    0.009894    0.018582       0.141853   \n",
              "20637            0.313725     0.057277    0.028140    0.071041       0.082764   \n",
              "20638            0.333333     0.047256    0.020684    0.057227       0.094295   \n",
              "20639            0.294118     0.070782    0.038790    0.086992       0.130253   \n",
              "\n",
              "       median_house_value  \n",
              "0                0.954179  \n",
              "1                0.800312  \n",
              "2                0.785473  \n",
              "3                0.759438  \n",
              "4                0.761520  \n",
              "...                   ...  \n",
              "20635            0.095288  \n",
              "20636            0.092684  \n",
              "20637            0.132257  \n",
              "20638            0.112471  \n",
              "20639            0.124707  \n",
              "\n",
              "[20640 rows x 6 columns]"
            ]
          },
          "metadata": {
            "tags": []
          },
          "execution_count": 15
        }
      ]
    },
    {
      "cell_type": "markdown",
      "metadata": {
        "id": "4RwyPOvEk-VX"
      },
      "source": [
        "**Standardization**"
      ]
    },
    {
      "cell_type": "code",
      "metadata": {
        "id": "648AeiIek-VX",
        "outputId": "09ed8986-e63f-4ac5-cfe8-cde0ccb8c90b"
      },
      "source": [
        "standard_scaler = StandardScaler()\n",
        "standardized_data = standard_scaler.fit_transform(temp_data)\n",
        "pd.DataFrame(standardized_data , columns = temp_data.columns)"
      ],
      "execution_count": null,
      "outputs": [
        {
          "output_type": "execute_result",
          "data": {
            "text/html": [
              "<div>\n",
              "<style scoped>\n",
              "    .dataframe tbody tr th:only-of-type {\n",
              "        vertical-align: middle;\n",
              "    }\n",
              "\n",
              "    .dataframe tbody tr th {\n",
              "        vertical-align: top;\n",
              "    }\n",
              "\n",
              "    .dataframe thead th {\n",
              "        text-align: right;\n",
              "    }\n",
              "</style>\n",
              "<table border=\"1\" class=\"dataframe\">\n",
              "  <thead>\n",
              "    <tr style=\"text-align: right;\">\n",
              "      <th></th>\n",
              "      <th>housing_median_age</th>\n",
              "      <th>total_rooms</th>\n",
              "      <th>population</th>\n",
              "      <th>households</th>\n",
              "      <th>median_income</th>\n",
              "      <th>median_house_value</th>\n",
              "    </tr>\n",
              "  </thead>\n",
              "  <tbody>\n",
              "    <tr>\n",
              "      <th>0</th>\n",
              "      <td>0.982143</td>\n",
              "      <td>-0.804819</td>\n",
              "      <td>-0.974429</td>\n",
              "      <td>-0.977033</td>\n",
              "      <td>2.344766</td>\n",
              "      <td>2.023402</td>\n",
              "    </tr>\n",
              "    <tr>\n",
              "      <th>1</th>\n",
              "      <td>-0.607019</td>\n",
              "      <td>2.045890</td>\n",
              "      <td>0.861439</td>\n",
              "      <td>1.669961</td>\n",
              "      <td>2.332238</td>\n",
              "      <td>1.446535</td>\n",
              "    </tr>\n",
              "    <tr>\n",
              "      <th>2</th>\n",
              "      <td>1.856182</td>\n",
              "      <td>-0.535746</td>\n",
              "      <td>-0.820777</td>\n",
              "      <td>-0.843637</td>\n",
              "      <td>1.782699</td>\n",
              "      <td>1.390899</td>\n",
              "    </tr>\n",
              "    <tr>\n",
              "      <th>3</th>\n",
              "      <td>1.856182</td>\n",
              "      <td>-0.624215</td>\n",
              "      <td>-0.766028</td>\n",
              "      <td>-0.733781</td>\n",
              "      <td>0.932968</td>\n",
              "      <td>1.293290</td>\n",
              "    </tr>\n",
              "    <tr>\n",
              "      <th>4</th>\n",
              "      <td>1.856182</td>\n",
              "      <td>-0.462404</td>\n",
              "      <td>-0.759847</td>\n",
              "      <td>-0.629157</td>\n",
              "      <td>-0.012881</td>\n",
              "      <td>1.301099</td>\n",
              "    </tr>\n",
              "    <tr>\n",
              "      <th>...</th>\n",
              "      <td>...</td>\n",
              "      <td>...</td>\n",
              "      <td>...</td>\n",
              "      <td>...</td>\n",
              "      <td>...</td>\n",
              "      <td>...</td>\n",
              "    </tr>\n",
              "    <tr>\n",
              "      <th>20635</th>\n",
              "      <td>-0.289187</td>\n",
              "      <td>-0.444985</td>\n",
              "      <td>-0.512592</td>\n",
              "      <td>-0.443449</td>\n",
              "      <td>-1.216128</td>\n",
              "      <td>-1.196706</td>\n",
              "    </tr>\n",
              "    <tr>\n",
              "      <th>20636</th>\n",
              "      <td>-0.845393</td>\n",
              "      <td>-0.888704</td>\n",
              "      <td>-0.944405</td>\n",
              "      <td>-1.008420</td>\n",
              "      <td>-0.691593</td>\n",
              "      <td>-1.206467</td>\n",
              "    </tr>\n",
              "    <tr>\n",
              "      <th>20637</th>\n",
              "      <td>-0.924851</td>\n",
              "      <td>-0.174995</td>\n",
              "      <td>-0.369537</td>\n",
              "      <td>-0.174042</td>\n",
              "      <td>-1.142593</td>\n",
              "      <td>-1.058102</td>\n",
              "    </tr>\n",
              "    <tr>\n",
              "      <th>20638</th>\n",
              "      <td>-0.845393</td>\n",
              "      <td>-0.355600</td>\n",
              "      <td>-0.604429</td>\n",
              "      <td>-0.393753</td>\n",
              "      <td>-1.054583</td>\n",
              "      <td>-1.132284</td>\n",
              "    </tr>\n",
              "    <tr>\n",
              "      <th>20639</th>\n",
              "      <td>-1.004309</td>\n",
              "      <td>0.068408</td>\n",
              "      <td>-0.033977</td>\n",
              "      <td>0.079672</td>\n",
              "      <td>-0.780129</td>\n",
              "      <td>-1.086408</td>\n",
              "    </tr>\n",
              "  </tbody>\n",
              "</table>\n",
              "<p>20640 rows × 6 columns</p>\n",
              "</div>"
            ],
            "text/plain": [
              "       housing_median_age  total_rooms  population  households  median_income  \\\n",
              "0                0.982143    -0.804819   -0.974429   -0.977033       2.344766   \n",
              "1               -0.607019     2.045890    0.861439    1.669961       2.332238   \n",
              "2                1.856182    -0.535746   -0.820777   -0.843637       1.782699   \n",
              "3                1.856182    -0.624215   -0.766028   -0.733781       0.932968   \n",
              "4                1.856182    -0.462404   -0.759847   -0.629157      -0.012881   \n",
              "...                   ...          ...         ...         ...            ...   \n",
              "20635           -0.289187    -0.444985   -0.512592   -0.443449      -1.216128   \n",
              "20636           -0.845393    -0.888704   -0.944405   -1.008420      -0.691593   \n",
              "20637           -0.924851    -0.174995   -0.369537   -0.174042      -1.142593   \n",
              "20638           -0.845393    -0.355600   -0.604429   -0.393753      -1.054583   \n",
              "20639           -1.004309     0.068408   -0.033977    0.079672      -0.780129   \n",
              "\n",
              "       median_house_value  \n",
              "0                2.023402  \n",
              "1                1.446535  \n",
              "2                1.390899  \n",
              "3                1.293290  \n",
              "4                1.301099  \n",
              "...                   ...  \n",
              "20635           -1.196706  \n",
              "20636           -1.206467  \n",
              "20637           -1.058102  \n",
              "20638           -1.132284  \n",
              "20639           -1.086408  \n",
              "\n",
              "[20640 rows x 6 columns]"
            ]
          },
          "metadata": {
            "tags": []
          },
          "execution_count": 16
        }
      ]
    },
    {
      "cell_type": "markdown",
      "metadata": {
        "id": "to5ZEHGVk-VY"
      },
      "source": [
        "**Handling With Missing Values**"
      ]
    },
    {
      "cell_type": "code",
      "metadata": {
        "id": "AVELmTX1k-VY",
        "outputId": "78a9bba8-6be0-40f0-bb2c-2951bab82f85"
      },
      "source": [
        "data.isnull().sum()"
      ],
      "execution_count": null,
      "outputs": [
        {
          "output_type": "execute_result",
          "data": {
            "text/plain": [
              "longitude               0\n",
              "latitude                0\n",
              "housing_median_age      0\n",
              "total_rooms             0\n",
              "total_bedrooms        207\n",
              "population              0\n",
              "households              0\n",
              "median_income           0\n",
              "median_house_value      0\n",
              "ocean_proximity         0\n",
              "dtype: int64"
            ]
          },
          "metadata": {
            "tags": []
          },
          "execution_count": 17
        }
      ]
    },
    {
      "cell_type": "code",
      "metadata": {
        "id": "5fCaEBw5k-VY",
        "outputId": "80fe510b-9867-4261-cd97-3f2f8f2a3fc8"
      },
      "source": [
        "data['total_bedrooms'].isnull().sum()"
      ],
      "execution_count": null,
      "outputs": [
        {
          "output_type": "execute_result",
          "data": {
            "text/plain": [
              "207"
            ]
          },
          "metadata": {
            "tags": []
          },
          "execution_count": 18
        }
      ]
    },
    {
      "cell_type": "markdown",
      "metadata": {
        "id": "BbSTFsvHk-VZ"
      },
      "source": [
        "**Simple Imputer**"
      ]
    },
    {
      "cell_type": "code",
      "metadata": {
        "id": "lajCcLGDk-VZ",
        "outputId": "e3a60ec0-2c91-4f62-acf4-f417773c2ba8"
      },
      "source": [
        "from sklearn.impute import SimpleImputer\n",
        "imputer = SimpleImputer(missing_values=np.nan , strategy='mean')\n",
        "agent_col = imputer.fit_transform(data['total_bedrooms'].values.reshape(-1,1))\n",
        "pd.DataFrame(agent_col).isnull().sum()"
      ],
      "execution_count": null,
      "outputs": [
        {
          "output_type": "execute_result",
          "data": {
            "text/plain": [
              "0    0\n",
              "dtype: int64"
            ]
          },
          "metadata": {
            "tags": []
          },
          "execution_count": 19
        }
      ]
    },
    {
      "cell_type": "code",
      "metadata": {
        "id": "tU-fFuwtk-VZ",
        "outputId": "5d57d7ff-99d3-4b2d-ee3c-33036adf5b06"
      },
      "source": [
        "data['total_bedrooms'].isnull().sum()\n",
        "\n"
      ],
      "execution_count": null,
      "outputs": [
        {
          "output_type": "execute_result",
          "data": {
            "text/plain": [
              "207"
            ]
          },
          "metadata": {
            "tags": []
          },
          "execution_count": 20
        }
      ]
    },
    {
      "cell_type": "markdown",
      "metadata": {
        "id": "49eidx71k-VZ"
      },
      "source": [
        "**Discretization**"
      ]
    },
    {
      "cell_type": "code",
      "metadata": {
        "id": "SiihNaHkk-VZ",
        "outputId": "12a8f342-3f13-4420-c4f1-0574892a69b5"
      },
      "source": [
        "from sklearn.preprocessing import KBinsDiscretizer\n",
        "temp_data.head()"
      ],
      "execution_count": null,
      "outputs": [
        {
          "output_type": "execute_result",
          "data": {
            "text/html": [
              "<div>\n",
              "<style scoped>\n",
              "    .dataframe tbody tr th:only-of-type {\n",
              "        vertical-align: middle;\n",
              "    }\n",
              "\n",
              "    .dataframe tbody tr th {\n",
              "        vertical-align: top;\n",
              "    }\n",
              "\n",
              "    .dataframe thead th {\n",
              "        text-align: right;\n",
              "    }\n",
              "</style>\n",
              "<table border=\"1\" class=\"dataframe\">\n",
              "  <thead>\n",
              "    <tr style=\"text-align: right;\">\n",
              "      <th></th>\n",
              "      <th>housing_median_age</th>\n",
              "      <th>total_rooms</th>\n",
              "      <th>population</th>\n",
              "      <th>households</th>\n",
              "      <th>median_income</th>\n",
              "      <th>median_house_value</th>\n",
              "    </tr>\n",
              "  </thead>\n",
              "  <tbody>\n",
              "    <tr>\n",
              "      <th>0</th>\n",
              "      <td>41.0</td>\n",
              "      <td>880.0</td>\n",
              "      <td>322.0</td>\n",
              "      <td>126.0</td>\n",
              "      <td>8.3252</td>\n",
              "      <td>3665</td>\n",
              "    </tr>\n",
              "    <tr>\n",
              "      <th>1</th>\n",
              "      <td>21.0</td>\n",
              "      <td>7099.0</td>\n",
              "      <td>2401.0</td>\n",
              "      <td>1138.0</td>\n",
              "      <td>8.3014</td>\n",
              "      <td>3074</td>\n",
              "    </tr>\n",
              "    <tr>\n",
              "      <th>2</th>\n",
              "      <td>52.0</td>\n",
              "      <td>1467.0</td>\n",
              "      <td>496.0</td>\n",
              "      <td>177.0</td>\n",
              "      <td>7.2574</td>\n",
              "      <td>3017</td>\n",
              "    </tr>\n",
              "    <tr>\n",
              "      <th>3</th>\n",
              "      <td>52.0</td>\n",
              "      <td>1274.0</td>\n",
              "      <td>558.0</td>\n",
              "      <td>219.0</td>\n",
              "      <td>5.6431</td>\n",
              "      <td>2917</td>\n",
              "    </tr>\n",
              "    <tr>\n",
              "      <th>4</th>\n",
              "      <td>52.0</td>\n",
              "      <td>1627.0</td>\n",
              "      <td>565.0</td>\n",
              "      <td>259.0</td>\n",
              "      <td>3.8462</td>\n",
              "      <td>2925</td>\n",
              "    </tr>\n",
              "  </tbody>\n",
              "</table>\n",
              "</div>"
            ],
            "text/plain": [
              "   housing_median_age  total_rooms  population  households  median_income  \\\n",
              "0                41.0        880.0       322.0       126.0         8.3252   \n",
              "1                21.0       7099.0      2401.0      1138.0         8.3014   \n",
              "2                52.0       1467.0       496.0       177.0         7.2574   \n",
              "3                52.0       1274.0       558.0       219.0         5.6431   \n",
              "4                52.0       1627.0       565.0       259.0         3.8462   \n",
              "\n",
              "   median_house_value  \n",
              "0                3665  \n",
              "1                3074  \n",
              "2                3017  \n",
              "3                2917  \n",
              "4                2925  "
            ]
          },
          "metadata": {
            "tags": []
          },
          "execution_count": 21
        }
      ]
    },
    {
      "cell_type": "markdown",
      "metadata": {
        "id": "SRFPb-qik-Va"
      },
      "source": [
        "**Quantile Discretization Transform**"
      ]
    },
    {
      "cell_type": "code",
      "metadata": {
        "id": "4Gx3TT4Mk-Va",
        "outputId": "ee4d8308-eb31-44ff-db96-db707d231059"
      },
      "source": [
        "trans = KBinsDiscretizer(n_bins =10 , encode = 'ordinal' , strategy='quantile')\n",
        "new_data = trans.fit_transform(temp_data)\n",
        "pd.DataFrame(new_data,columns = temp_data.columns )"
      ],
      "execution_count": null,
      "outputs": [
        {
          "output_type": "execute_result",
          "data": {
            "text/html": [
              "<div>\n",
              "<style scoped>\n",
              "    .dataframe tbody tr th:only-of-type {\n",
              "        vertical-align: middle;\n",
              "    }\n",
              "\n",
              "    .dataframe tbody tr th {\n",
              "        vertical-align: top;\n",
              "    }\n",
              "\n",
              "    .dataframe thead th {\n",
              "        text-align: right;\n",
              "    }\n",
              "</style>\n",
              "<table border=\"1\" class=\"dataframe\">\n",
              "  <thead>\n",
              "    <tr style=\"text-align: right;\">\n",
              "      <th></th>\n",
              "      <th>housing_median_age</th>\n",
              "      <th>total_rooms</th>\n",
              "      <th>population</th>\n",
              "      <th>households</th>\n",
              "      <th>median_income</th>\n",
              "      <th>median_house_value</th>\n",
              "    </tr>\n",
              "  </thead>\n",
              "  <tbody>\n",
              "    <tr>\n",
              "      <th>0</th>\n",
              "      <td>8.0</td>\n",
              "      <td>0.0</td>\n",
              "      <td>0.0</td>\n",
              "      <td>0.0</td>\n",
              "      <td>9.0</td>\n",
              "      <td>9.0</td>\n",
              "    </tr>\n",
              "    <tr>\n",
              "      <th>1</th>\n",
              "      <td>3.0</td>\n",
              "      <td>9.0</td>\n",
              "      <td>8.0</td>\n",
              "      <td>9.0</td>\n",
              "      <td>9.0</td>\n",
              "      <td>8.0</td>\n",
              "    </tr>\n",
              "    <tr>\n",
              "      <th>2</th>\n",
              "      <td>9.0</td>\n",
              "      <td>2.0</td>\n",
              "      <td>0.0</td>\n",
              "      <td>0.0</td>\n",
              "      <td>9.0</td>\n",
              "      <td>8.0</td>\n",
              "    </tr>\n",
              "    <tr>\n",
              "      <th>3</th>\n",
              "      <td>9.0</td>\n",
              "      <td>1.0</td>\n",
              "      <td>1.0</td>\n",
              "      <td>1.0</td>\n",
              "      <td>8.0</td>\n",
              "      <td>8.0</td>\n",
              "    </tr>\n",
              "    <tr>\n",
              "      <th>4</th>\n",
              "      <td>9.0</td>\n",
              "      <td>3.0</td>\n",
              "      <td>1.0</td>\n",
              "      <td>2.0</td>\n",
              "      <td>5.0</td>\n",
              "      <td>8.0</td>\n",
              "    </tr>\n",
              "    <tr>\n",
              "      <th>...</th>\n",
              "      <td>...</td>\n",
              "      <td>...</td>\n",
              "      <td>...</td>\n",
              "      <td>...</td>\n",
              "      <td>...</td>\n",
              "      <td>...</td>\n",
              "    </tr>\n",
              "    <tr>\n",
              "      <th>20635</th>\n",
              "      <td>4.0</td>\n",
              "      <td>3.0</td>\n",
              "      <td>2.0</td>\n",
              "      <td>3.0</td>\n",
              "      <td>0.0</td>\n",
              "      <td>0.0</td>\n",
              "    </tr>\n",
              "    <tr>\n",
              "      <th>20636</th>\n",
              "      <td>2.0</td>\n",
              "      <td>0.0</td>\n",
              "      <td>0.0</td>\n",
              "      <td>0.0</td>\n",
              "      <td>2.0</td>\n",
              "      <td>0.0</td>\n",
              "    </tr>\n",
              "    <tr>\n",
              "      <th>20637</th>\n",
              "      <td>2.0</td>\n",
              "      <td>5.0</td>\n",
              "      <td>4.0</td>\n",
              "      <td>5.0</td>\n",
              "      <td>0.0</td>\n",
              "      <td>1.0</td>\n",
              "    </tr>\n",
              "    <tr>\n",
              "      <th>20638</th>\n",
              "      <td>2.0</td>\n",
              "      <td>4.0</td>\n",
              "      <td>2.0</td>\n",
              "      <td>3.0</td>\n",
              "      <td>0.0</td>\n",
              "      <td>1.0</td>\n",
              "    </tr>\n",
              "    <tr>\n",
              "      <th>20639</th>\n",
              "      <td>1.0</td>\n",
              "      <td>6.0</td>\n",
              "      <td>6.0</td>\n",
              "      <td>6.0</td>\n",
              "      <td>2.0</td>\n",
              "      <td>1.0</td>\n",
              "    </tr>\n",
              "  </tbody>\n",
              "</table>\n",
              "<p>20640 rows × 6 columns</p>\n",
              "</div>"
            ],
            "text/plain": [
              "       housing_median_age  total_rooms  population  households  median_income  \\\n",
              "0                     8.0          0.0         0.0         0.0            9.0   \n",
              "1                     3.0          9.0         8.0         9.0            9.0   \n",
              "2                     9.0          2.0         0.0         0.0            9.0   \n",
              "3                     9.0          1.0         1.0         1.0            8.0   \n",
              "4                     9.0          3.0         1.0         2.0            5.0   \n",
              "...                   ...          ...         ...         ...            ...   \n",
              "20635                 4.0          3.0         2.0         3.0            0.0   \n",
              "20636                 2.0          0.0         0.0         0.0            2.0   \n",
              "20637                 2.0          5.0         4.0         5.0            0.0   \n",
              "20638                 2.0          4.0         2.0         3.0            0.0   \n",
              "20639                 1.0          6.0         6.0         6.0            2.0   \n",
              "\n",
              "       median_house_value  \n",
              "0                     9.0  \n",
              "1                     8.0  \n",
              "2                     8.0  \n",
              "3                     8.0  \n",
              "4                     8.0  \n",
              "...                   ...  \n",
              "20635                 0.0  \n",
              "20636                 0.0  \n",
              "20637                 1.0  \n",
              "20638                 1.0  \n",
              "20639                 1.0  \n",
              "\n",
              "[20640 rows x 6 columns]"
            ]
          },
          "metadata": {
            "tags": []
          },
          "execution_count": 22
        }
      ]
    },
    {
      "cell_type": "markdown",
      "metadata": {
        "id": "qTufyJkmk-Va"
      },
      "source": [
        "**Uniform Discretization Transform**"
      ]
    },
    {
      "cell_type": "code",
      "metadata": {
        "id": "0mCUjEN6k-Va",
        "outputId": "11d42ff2-280a-44e6-8ad7-dfa4d800bc85"
      },
      "source": [
        "trans = KBinsDiscretizer(n_bins =10 , encode = 'ordinal' , strategy='uniform')\n",
        "new_data = trans.fit_transform(temp_data)\n",
        "\n",
        "pd.DataFrame(new_data,columns = temp_data.columns )"
      ],
      "execution_count": null,
      "outputs": [
        {
          "output_type": "execute_result",
          "data": {
            "text/html": [
              "<div>\n",
              "<style scoped>\n",
              "    .dataframe tbody tr th:only-of-type {\n",
              "        vertical-align: middle;\n",
              "    }\n",
              "\n",
              "    .dataframe tbody tr th {\n",
              "        vertical-align: top;\n",
              "    }\n",
              "\n",
              "    .dataframe thead th {\n",
              "        text-align: right;\n",
              "    }\n",
              "</style>\n",
              "<table border=\"1\" class=\"dataframe\">\n",
              "  <thead>\n",
              "    <tr style=\"text-align: right;\">\n",
              "      <th></th>\n",
              "      <th>housing_median_age</th>\n",
              "      <th>total_rooms</th>\n",
              "      <th>population</th>\n",
              "      <th>households</th>\n",
              "      <th>median_income</th>\n",
              "      <th>median_house_value</th>\n",
              "    </tr>\n",
              "  </thead>\n",
              "  <tbody>\n",
              "    <tr>\n",
              "      <th>0</th>\n",
              "      <td>7.0</td>\n",
              "      <td>0.0</td>\n",
              "      <td>0.0</td>\n",
              "      <td>0.0</td>\n",
              "      <td>5.0</td>\n",
              "      <td>9.0</td>\n",
              "    </tr>\n",
              "    <tr>\n",
              "      <th>1</th>\n",
              "      <td>3.0</td>\n",
              "      <td>1.0</td>\n",
              "      <td>0.0</td>\n",
              "      <td>1.0</td>\n",
              "      <td>5.0</td>\n",
              "      <td>8.0</td>\n",
              "    </tr>\n",
              "    <tr>\n",
              "      <th>2</th>\n",
              "      <td>9.0</td>\n",
              "      <td>0.0</td>\n",
              "      <td>0.0</td>\n",
              "      <td>0.0</td>\n",
              "      <td>4.0</td>\n",
              "      <td>7.0</td>\n",
              "    </tr>\n",
              "    <tr>\n",
              "      <th>3</th>\n",
              "      <td>9.0</td>\n",
              "      <td>0.0</td>\n",
              "      <td>0.0</td>\n",
              "      <td>0.0</td>\n",
              "      <td>3.0</td>\n",
              "      <td>7.0</td>\n",
              "    </tr>\n",
              "    <tr>\n",
              "      <th>4</th>\n",
              "      <td>9.0</td>\n",
              "      <td>0.0</td>\n",
              "      <td>0.0</td>\n",
              "      <td>0.0</td>\n",
              "      <td>2.0</td>\n",
              "      <td>7.0</td>\n",
              "    </tr>\n",
              "    <tr>\n",
              "      <th>...</th>\n",
              "      <td>...</td>\n",
              "      <td>...</td>\n",
              "      <td>...</td>\n",
              "      <td>...</td>\n",
              "      <td>...</td>\n",
              "      <td>...</td>\n",
              "    </tr>\n",
              "    <tr>\n",
              "      <th>20635</th>\n",
              "      <td>4.0</td>\n",
              "      <td>0.0</td>\n",
              "      <td>0.0</td>\n",
              "      <td>0.0</td>\n",
              "      <td>0.0</td>\n",
              "      <td>0.0</td>\n",
              "    </tr>\n",
              "    <tr>\n",
              "      <th>20636</th>\n",
              "      <td>3.0</td>\n",
              "      <td>0.0</td>\n",
              "      <td>0.0</td>\n",
              "      <td>0.0</td>\n",
              "      <td>1.0</td>\n",
              "      <td>0.0</td>\n",
              "    </tr>\n",
              "    <tr>\n",
              "      <th>20637</th>\n",
              "      <td>3.0</td>\n",
              "      <td>0.0</td>\n",
              "      <td>0.0</td>\n",
              "      <td>0.0</td>\n",
              "      <td>0.0</td>\n",
              "      <td>1.0</td>\n",
              "    </tr>\n",
              "    <tr>\n",
              "      <th>20638</th>\n",
              "      <td>3.0</td>\n",
              "      <td>0.0</td>\n",
              "      <td>0.0</td>\n",
              "      <td>0.0</td>\n",
              "      <td>0.0</td>\n",
              "      <td>1.0</td>\n",
              "    </tr>\n",
              "    <tr>\n",
              "      <th>20639</th>\n",
              "      <td>2.0</td>\n",
              "      <td>0.0</td>\n",
              "      <td>0.0</td>\n",
              "      <td>0.0</td>\n",
              "      <td>1.0</td>\n",
              "      <td>1.0</td>\n",
              "    </tr>\n",
              "  </tbody>\n",
              "</table>\n",
              "<p>20640 rows × 6 columns</p>\n",
              "</div>"
            ],
            "text/plain": [
              "       housing_median_age  total_rooms  population  households  median_income  \\\n",
              "0                     7.0          0.0         0.0         0.0            5.0   \n",
              "1                     3.0          1.0         0.0         1.0            5.0   \n",
              "2                     9.0          0.0         0.0         0.0            4.0   \n",
              "3                     9.0          0.0         0.0         0.0            3.0   \n",
              "4                     9.0          0.0         0.0         0.0            2.0   \n",
              "...                   ...          ...         ...         ...            ...   \n",
              "20635                 4.0          0.0         0.0         0.0            0.0   \n",
              "20636                 3.0          0.0         0.0         0.0            1.0   \n",
              "20637                 3.0          0.0         0.0         0.0            0.0   \n",
              "20638                 3.0          0.0         0.0         0.0            0.0   \n",
              "20639                 2.0          0.0         0.0         0.0            1.0   \n",
              "\n",
              "       median_house_value  \n",
              "0                     9.0  \n",
              "1                     8.0  \n",
              "2                     7.0  \n",
              "3                     7.0  \n",
              "4                     7.0  \n",
              "...                   ...  \n",
              "20635                 0.0  \n",
              "20636                 0.0  \n",
              "20637                 1.0  \n",
              "20638                 1.0  \n",
              "20639                 1.0  \n",
              "\n",
              "[20640 rows x 6 columns]"
            ]
          },
          "metadata": {
            "tags": []
          },
          "execution_count": 23
        }
      ]
    },
    {
      "cell_type": "markdown",
      "metadata": {
        "id": "YeyV1F4ak-Vb"
      },
      "source": [
        "**KMeans Discretization Transform**"
      ]
    },
    {
      "cell_type": "code",
      "metadata": {
        "id": "La9BIpZsk-Vb",
        "outputId": "e7d85131-cf32-4623-c49c-0d0919d82291"
      },
      "source": [
        "trans = KBinsDiscretizer(n_bins =10 , encode = 'ordinal' , strategy='kmeans')\n",
        "new_data = trans.fit_transform(temp_data)\n",
        "\n",
        "pd.DataFrame(new_data,columns = temp_data.columns )"
      ],
      "execution_count": null,
      "outputs": [
        {
          "output_type": "execute_result",
          "data": {
            "text/html": [
              "<div>\n",
              "<style scoped>\n",
              "    .dataframe tbody tr th:only-of-type {\n",
              "        vertical-align: middle;\n",
              "    }\n",
              "\n",
              "    .dataframe tbody tr th {\n",
              "        vertical-align: top;\n",
              "    }\n",
              "\n",
              "    .dataframe thead th {\n",
              "        text-align: right;\n",
              "    }\n",
              "</style>\n",
              "<table border=\"1\" class=\"dataframe\">\n",
              "  <thead>\n",
              "    <tr style=\"text-align: right;\">\n",
              "      <th></th>\n",
              "      <th>housing_median_age</th>\n",
              "      <th>total_rooms</th>\n",
              "      <th>population</th>\n",
              "      <th>households</th>\n",
              "      <th>median_income</th>\n",
              "      <th>median_house_value</th>\n",
              "    </tr>\n",
              "  </thead>\n",
              "  <tbody>\n",
              "    <tr>\n",
              "      <th>0</th>\n",
              "      <td>7.0</td>\n",
              "      <td>0.0</td>\n",
              "      <td>0.0</td>\n",
              "      <td>0.0</td>\n",
              "      <td>6.0</td>\n",
              "      <td>9.0</td>\n",
              "    </tr>\n",
              "    <tr>\n",
              "      <th>1</th>\n",
              "      <td>3.0</td>\n",
              "      <td>4.0</td>\n",
              "      <td>3.0</td>\n",
              "      <td>4.0</td>\n",
              "      <td>6.0</td>\n",
              "      <td>7.0</td>\n",
              "    </tr>\n",
              "    <tr>\n",
              "      <th>2</th>\n",
              "      <td>9.0</td>\n",
              "      <td>1.0</td>\n",
              "      <td>0.0</td>\n",
              "      <td>0.0</td>\n",
              "      <td>6.0</td>\n",
              "      <td>7.0</td>\n",
              "    </tr>\n",
              "    <tr>\n",
              "      <th>3</th>\n",
              "      <td>9.0</td>\n",
              "      <td>0.0</td>\n",
              "      <td>0.0</td>\n",
              "      <td>0.0</td>\n",
              "      <td>4.0</td>\n",
              "      <td>7.0</td>\n",
              "    </tr>\n",
              "    <tr>\n",
              "      <th>4</th>\n",
              "      <td>9.0</td>\n",
              "      <td>1.0</td>\n",
              "      <td>0.0</td>\n",
              "      <td>1.0</td>\n",
              "      <td>3.0</td>\n",
              "      <td>7.0</td>\n",
              "    </tr>\n",
              "    <tr>\n",
              "      <th>...</th>\n",
              "      <td>...</td>\n",
              "      <td>...</td>\n",
              "      <td>...</td>\n",
              "      <td>...</td>\n",
              "      <td>...</td>\n",
              "      <td>...</td>\n",
              "    </tr>\n",
              "    <tr>\n",
              "      <th>20635</th>\n",
              "      <td>4.0</td>\n",
              "      <td>1.0</td>\n",
              "      <td>1.0</td>\n",
              "      <td>1.0</td>\n",
              "      <td>0.0</td>\n",
              "      <td>0.0</td>\n",
              "    </tr>\n",
              "    <tr>\n",
              "      <th>20636</th>\n",
              "      <td>3.0</td>\n",
              "      <td>0.0</td>\n",
              "      <td>0.0</td>\n",
              "      <td>0.0</td>\n",
              "      <td>1.0</td>\n",
              "      <td>0.0</td>\n",
              "    </tr>\n",
              "    <tr>\n",
              "      <th>20637</th>\n",
              "      <td>3.0</td>\n",
              "      <td>1.0</td>\n",
              "      <td>1.0</td>\n",
              "      <td>2.0</td>\n",
              "      <td>0.0</td>\n",
              "      <td>1.0</td>\n",
              "    </tr>\n",
              "    <tr>\n",
              "      <th>20638</th>\n",
              "      <td>3.0</td>\n",
              "      <td>1.0</td>\n",
              "      <td>0.0</td>\n",
              "      <td>1.0</td>\n",
              "      <td>0.0</td>\n",
              "      <td>1.0</td>\n",
              "    </tr>\n",
              "    <tr>\n",
              "      <th>20639</th>\n",
              "      <td>2.0</td>\n",
              "      <td>2.0</td>\n",
              "      <td>1.0</td>\n",
              "      <td>2.0</td>\n",
              "      <td>1.0</td>\n",
              "      <td>1.0</td>\n",
              "    </tr>\n",
              "  </tbody>\n",
              "</table>\n",
              "<p>20640 rows × 6 columns</p>\n",
              "</div>"
            ],
            "text/plain": [
              "       housing_median_age  total_rooms  population  households  median_income  \\\n",
              "0                     7.0          0.0         0.0         0.0            6.0   \n",
              "1                     3.0          4.0         3.0         4.0            6.0   \n",
              "2                     9.0          1.0         0.0         0.0            6.0   \n",
              "3                     9.0          0.0         0.0         0.0            4.0   \n",
              "4                     9.0          1.0         0.0         1.0            3.0   \n",
              "...                   ...          ...         ...         ...            ...   \n",
              "20635                 4.0          1.0         1.0         1.0            0.0   \n",
              "20636                 3.0          0.0         0.0         0.0            1.0   \n",
              "20637                 3.0          1.0         1.0         2.0            0.0   \n",
              "20638                 3.0          1.0         0.0         1.0            0.0   \n",
              "20639                 2.0          2.0         1.0         2.0            1.0   \n",
              "\n",
              "       median_house_value  \n",
              "0                     9.0  \n",
              "1                     7.0  \n",
              "2                     7.0  \n",
              "3                     7.0  \n",
              "4                     7.0  \n",
              "...                   ...  \n",
              "20635                 0.0  \n",
              "20636                 0.0  \n",
              "20637                 1.0  \n",
              "20638                 1.0  \n",
              "20639                 1.0  \n",
              "\n",
              "[20640 rows x 6 columns]"
            ]
          },
          "metadata": {
            "tags": []
          },
          "execution_count": 24
        }
      ]
    },
    {
      "cell_type": "code",
      "metadata": {
        "id": "0cgQZ_Lak-Vb"
      },
      "source": [
        ""
      ],
      "execution_count": null,
      "outputs": []
    }
  ]
}